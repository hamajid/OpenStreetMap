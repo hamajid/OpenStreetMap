{
 "cells": [
  {
   "cell_type": "markdown",
   "metadata": {},
   "source": [
    "# Project 3: OpenStreetMap Data Case Study"
   ]
  },
  {
   "cell_type": "markdown",
   "metadata": {},
   "source": [
    "## Map Area"
   ]
  },
  {
   "cell_type": "markdown",
   "metadata": {},
   "source": [
    "San Jose CA, United States"
   ]
  },
  {
   "cell_type": "markdown",
   "metadata": {},
   "source": [
    "https://www.openstreetmap.org/relation/112143"
   ]
  },
  {
   "cell_type": "markdown",
   "metadata": {},
   "source": [
    "https://mapzen.com/data/metro-extracts/metro/san-jose_california/"
   ]
  },
  {
   "cell_type": "markdown",
   "metadata": {},
   "source": [
    "San Jose is the first city that I visited in USA and I have a wonderful memories with my friends, so I’m interested to explore the area virtually and be ready for the next visit."
   ]
  },
  {
   "cell_type": "markdown",
   "metadata": {},
   "source": [
    "## Problems Encountered in the Map"
   ]
  },
  {
   "cell_type": "markdown",
   "metadata": {},
   "source": [
    "After downloading and decompressing the XML file of San Jose area and running it against a provisional data.py file, I noticed the following main problems with the dataset:\n",
    "1- Abbreviated and non-standardized street types ('St.', 'St', 'ST', 'STREET', 'street','Ave.', 'Ave', 'AVENUE', 'avenue','Pkwy', etc).\n",
    "2- Inconsistent postal codes ('CA 94085', '95134-1358')\n"
   ]
  },
  {
   "cell_type": "markdown",
   "metadata": {},
   "source": [
    "### 1- Abbreviated  street names"
   ]
  },
  {
   "cell_type": "markdown",
   "metadata": {},
   "source": [
    "\n",
    "After auditing the data set, I attempted to clean the data and uniform it by replacing the abbreviated street types 'St.', 'St', 'ST', 'STREET', 'street' with \"Street\", and 'Ave.', 'Ave', 'AVENUE', 'avenue' with \"Avenue\" and so on.\n",
    "I created a list of expected street types that match the standards. The function \"audit_street_type\" collects the last words in the \"street_name\" strings, and stored in the dictionary if they are not within the expected list. The function \"street_types\" return me the no uniform and abbreviated street types being used. The \"is_street_name\" function looks for tags that specify street names (k=\"addr:street\"). The \"audit\" function returns a dictionary that match the above function conditions. The update_name function takes an old name to mapping dictionary, and update to a new one.\n"
   ]
  },
  {
   "cell_type": "code",
   "execution_count": null,
   "metadata": {
    "collapsed": true
   },
   "outputs": [],
   "source": [
    "def update_name(name, mapping):\n",
    "    \"\"\"takes an old name to mapping dictionary, and update to a new one\"\"\"\n",
    "    m = street_type_re.search(name)\n",
    "    if m not in expected:\n",
    "        if m.group() in mapping.keys():\n",
    "            name = re.sub(m.group(), mapping[m.group()], name)\n",
    "    \n",
    "    return name"
   ]
  },
  {
   "cell_type": "markdown",
   "metadata": {},
   "source": [
    "This updated all substrings in problematic address strings, such that: “Cabrillo Ave” becomes: “Cabrillo Avenue”"
   ]
  },
  {
   "cell_type": "markdown",
   "metadata": {},
   "source": [
    "### 2-Abbreviated  street names\n"
   ]
  },
  {
   "cell_type": "markdown",
   "metadata": {},
   "source": [
    "The postal codes are showing on the data set in different ways: five-digits, nine-digits, or start with the State code. I decided to uniform the zip codes to five main digit, so I dropped leading and trailing characters before and after the main 5 digit post code. \n"
   ]
  },
  {
   "cell_type": "code",
   "execution_count": null,
   "metadata": {
    "collapsed": true
   },
   "outputs": [],
   "source": [
    "def update_postcode(postcode):\n",
    "    if re.findall(r'^\\d{5}$', postcode): # 5 digits 02118\n",
    "        valid_postcode = postcode\n",
    "        return valid_postcode\n",
    "    elif re.findall(r'(^\\d{5})-\\d{4}$', postcode): # 9 digits 02118-0239\n",
    "        valid_postcode = re.findall(r'(^\\d{5})-\\d{4}$', postcode)[0]\n",
    "        return valid_postcode\n",
    "    elif re.findall(r'MA\\s*\\d{5}', postcode): # with state code MA 02118\n",
    "        valid_postcode =re.findall(r'\\d{5}', postcode)[0]  \n",
    "        return valid_postcode  \n",
    "    else:\n",
    "        return None"
   ]
  },
  {
   "cell_type": "markdown",
   "metadata": {},
   "source": [
    "## SQL Database Exploration"
   ]
  },
  {
   "cell_type": "markdown",
   "metadata": {},
   "source": [
    "To prepare and populate the SQL database, I parsed the XML file and changed the shape and the format to a tabular format by generating CSV files and I developed a python script (DB_Pop.py) to populate the database.\n",
    "\n"
   ]
  },
  {
   "cell_type": "markdown",
   "metadata": {
    "collapsed": true
   },
   "source": [
    "### The files size: "
   ]
  },
  {
   "cell_type": "code",
   "execution_count": 4,
   "metadata": {
    "scrolled": true
   },
   "outputs": [
    {
     "name": "stdout",
     "output_type": "stream",
     "text": [
      "The san-jose_california.osm file is 411.442361 MB\n",
      "The sanjose.db file is 227.483648 MB\n",
      "The nodes.csv file is 161.478084 MB\n",
      "The nodes_tags.csv file is 161.478084 MB\n",
      "The ways.csv file is 15.236259 MB\n",
      "The ways_tags.csv is 24.230945 MB\n",
      "The ways_nodes.csv is 54.906156 MB\n"
     ]
    }
   ],
   "source": [
    "import os\n",
    "print('The san-jose_california.osm file is {} MB'.format(os.path.getsize('san-jose_california.osm')/1.0e6))\n",
    "print('The sanjose.db file is {} MB'.format(os.path.getsize('sanjose.db')/1.0e6))\n",
    "print('The nodes.csv file is {} MB'.format(os.path.getsize('nodes.csv')/1.0e6))\n",
    "print('The nodes_tags.csv file is {} MB'.format(os.path.getsize('nodes.csv')/1.0e6))\n",
    "print('The ways.csv file is {} MB'.format(os.path.getsize('ways.csv')/1.0e6))\n",
    "print('The ways_tags.csv is {} MB'.format(os.path.getsize('ways_tags.csv')/1.0e6))\n",
    "print('The ways_nodes.csv is {} MB'.format(os.path.getsize('ways_nodes.csv')/1.0e6)) \n",
    "\n"
   ]
  },
  {
   "cell_type": "markdown",
   "metadata": {
    "collapsed": true
   },
   "source": [
    "### Number of nodes "
   ]
  },
  {
   "cell_type": "code",
   "execution_count": null,
   "metadata": {
    "collapsed": true
   },
   "outputs": [],
   "source": [
    "SELECT COUNT(*) FROM nodes;"
   ]
  },
  {
   "cell_type": "markdown",
   "metadata": {},
   "source": [
    "1891418"
   ]
  },
  {
   "cell_type": "markdown",
   "metadata": {},
   "source": [
    "### Number of ways"
   ]
  },
  {
   "cell_type": "code",
   "execution_count": null,
   "metadata": {
    "collapsed": true
   },
   "outputs": [],
   "source": [
    "SELECT COUNT(*) FROM ways;"
   ]
  },
  {
   "cell_type": "markdown",
   "metadata": {},
   "source": [
    "249292"
   ]
  },
  {
   "cell_type": "markdown",
   "metadata": {},
   "source": [
    "### Number of unique users "
   ]
  },
  {
   "cell_type": "code",
   "execution_count": null,
   "metadata": {
    "collapsed": true
   },
   "outputs": [],
   "source": [
    "SELECT COUNT(DISTINCT(e.uid))          \n",
    "FROM (SELECT uid FROM nodes UNION ALL SELECT uid FROM ways) e;"
   ]
  },
  {
   "cell_type": "markdown",
   "metadata": {},
   "source": [
    "1476"
   ]
  },
  {
   "cell_type": "markdown",
   "metadata": {},
   "source": [
    "### Top 10 contributing users "
   ]
  },
  {
   "cell_type": "code",
   "execution_count": null,
   "metadata": {
    "collapsed": true
   },
   "outputs": [],
   "source": [
    "SELECT e.user, COUNT(*) as num\n",
    "FROM (SELECT user FROM nodes UNION ALL SELECT user FROM ways) e\n",
    "GROUP BY e.user\n",
    "ORDER BY num DESC\n",
    "LIMIT 10;"
   ]
  },
  {
   "cell_type": "markdown",
   "metadata": {},
   "source": [
    "andygol\t                     295703\n",
    "nmixter\t                     281980\n",
    "mk408\t                     134683\n",
    "Bike Mapper\t                  94905\n",
    "samely\t                      80730\n",
    "3vivekb_sjsidewalks_import\t  77994\n",
    "RichRico\t                  75583\n",
    "dannykath\t                  73911\n",
    "MustangBuyer\t              64652\n",
    "karitotp\t                  62074"
   ]
  },
  {
   "cell_type": "markdown",
   "metadata": {},
   "source": [
    "### Number of Taco "
   ]
  },
  {
   "cell_type": "code",
   "execution_count": null,
   "metadata": {
    "collapsed": true
   },
   "outputs": [],
   "source": [
    "SELECT COUNT(*) FROM nodes_tags WHERE value LIKE '%taco%';"
   ]
  },
  {
   "cell_type": "markdown",
   "metadata": {},
   "source": [
    "28"
   ]
  },
  {
   "cell_type": "markdown",
   "metadata": {
    "collapsed": true
   },
   "source": [
    "## Additional Database Exploration"
   ]
  },
  {
   "cell_type": "markdown",
   "metadata": {},
   "source": [
    "### Count Tourism Related Categories "
   ]
  },
  {
   "cell_type": "code",
   "execution_count": null,
   "metadata": {
    "collapsed": true
   },
   "outputs": [],
   "source": [
    "SELECT tags.value, COUNT(*) as count FROM (SELECT * FROM nodes_tags UNION ALL SELECT * FROM ways_tags) tags WHERE tags.key LIKE '%tourism'\n",
    "GROUP BY tags.value\n",
    "ORDER BY count DESC;"
   ]
  },
  {
   "cell_type": "markdown",
   "metadata": {},
   "source": [
    "picnic_site\t     207\n",
    "hotel\t         111\n",
    "information\t      77\n",
    "motel\t          66\n",
    "attraction\t      39\n",
    "artwork\t          32\n",
    "museum\t          31\n",
    "viewpoint\t      20\n",
    "gallery\t           7\n",
    "guest_house\t       5\n",
    "camp_site\t       4\n",
    "theme_park\t       4\n",
    "caravan_site\t   2\n",
    "zoo\t               2\n",
    "bus_stop\t       1\n",
    "construction\t   1\n",
    "scenic_view\t       1"
   ]
  },
  {
   "cell_type": "markdown",
   "metadata": {},
   "source": [
    "### Top 10 appearing amenities"
   ]
  },
  {
   "cell_type": "code",
   "execution_count": null,
   "metadata": {
    "collapsed": true
   },
   "outputs": [],
   "source": [
    "SELECT value, COUNT(*) as num\n",
    "FROM nodes_tags\n",
    "WHERE key='amenity'\n",
    "GROUP BY value\n",
    "ORDER BY num DESC\n",
    "LIMIT 10;"
   ]
  },
  {
   "cell_type": "markdown",
   "metadata": {},
   "source": [
    "restaurant\t        898\n",
    "fast_food\t        429\n",
    "bench\t            319\n",
    "cafe\t            264\n",
    "bicycle_parking\t    208\n",
    "place_of_worship\t170\n",
    "toilets\t            163\n",
    "school\t            138\n",
    "fuel\t            130\n",
    "bank\t            128"
   ]
  },
  {
   "cell_type": "markdown",
   "metadata": {},
   "source": [
    "### Top 10 popular cuisines"
   ]
  },
  {
   "cell_type": "code",
   "execution_count": null,
   "metadata": {
    "collapsed": true
   },
   "outputs": [],
   "source": [
    "SELECT nodes_tags.value, COUNT(*) as num\n",
    "FROM nodes_tags \n",
    "    JOIN (SELECT DISTINCT(id) FROM nodes_tags WHERE value='restaurant') i\n",
    "    ON nodes_tags.id=i.id\n",
    "WHERE nodes_tags.key='cuisine'\n",
    "GROUP BY nodes_tags.value\n",
    "ORDER BY num DESC\n",
    "LIMIT 10;"
   ]
  },
  {
   "cell_type": "markdown",
   "metadata": {},
   "source": [
    "vietnamese\t81\n",
    "chinese\t    69\n",
    "mexican\t    65\n",
    "pizza\t    58\n",
    "japanese\t44\n",
    "indian\t    35\n",
    "italian\t    31\n",
    "american\t28\n",
    "thai\t    28\n",
    "sushi\t    23"
   ]
  },
  {
   "cell_type": "markdown",
   "metadata": {},
   "source": [
    "### Top 10 Fast Food Chain cuisines"
   ]
  },
  {
   "cell_type": "code",
   "execution_count": null,
   "metadata": {
    "collapsed": true
   },
   "outputs": [],
   "source": [
    "SELECT nodes_tags.value, COUNT(*) as num FROM nodes_tags JOIN (SELECT DISTINCT(id) \n",
    "FROM nodes_tags WHERE value='fast_food') i ON nodes_tags.id=i.id WHERE nodes_tags.key='name'\n",
    " GROUP BY nodes_tags.value ORDER BY num DESC LIMIT 10;"
   ]
  },
  {
   "cell_type": "markdown",
   "metadata": {},
   "source": [
    "Subway\t        41\n",
    "Jamba Juice\t    13\n",
    "Panda Express\t13\n",
    "Taco Bell\t    12\n",
    "Chipotle\t    11\n",
    "McDonald's       9\n",
    "Togo's\t         9\n",
    "KFC\t             8\n",
    "Burger King\t     7\n",
    "Baskin-Robbins\t 5"
   ]
  },
  {
   "cell_type": "markdown",
   "metadata": {},
   "source": [
    "### Top 10 cities "
   ]
  },
  {
   "cell_type": "code",
   "execution_count": null,
   "metadata": {
    "collapsed": true
   },
   "outputs": [],
   "source": [
    "SELECT tags.value, COUNT(*) as count \n",
    "FROM (SELECT * FROM nodes_tags UNION ALL \n",
    "      SELECT * FROM ways_tags) tags\n",
    "WHERE tags.key LIKE '%city'\n",
    "GROUP BY tags.value\n",
    "ORDER BY count DESC\n",
    "LIMIT 10;"
   ]
  },
  {
   "cell_type": "markdown",
   "metadata": {},
   "source": [
    "Sunnyvale\t3437\n",
    "San Jose\t1068\n",
    "Morgan Hill\t404\n",
    "Santa Clara\t340\n",
    "Saratoga\t234\n",
    "San José\t176\n",
    "Los Gatos\t146\n",
    "Milpitas\t113\n",
    "Campbell\t 93\n",
    "1\t         85"
   ]
  },
  {
   "cell_type": "markdown",
   "metadata": {},
   "source": [
    "## Additional Ideas"
   ]
  },
  {
   "cell_type": "markdown",
   "metadata": {},
   "source": [
    "It is obvious that the San Jose area data quality is poor, many incomplete street names or postal codes, and the data is not uniform. For example from the query below we can notice that we have San Jose and San José for the same city which lead to a misleading statistics also we can see the name of city as a number and we can't do anything about it for now.\n",
    "\n",
    "I suggest that the data entry should be more restricted and following a standard, also having an instantaneous data validator for volunteers will help to improve the quality of the open street map project.\n"
   ]
  },
  {
   "cell_type": "markdown",
   "metadata": {},
   "source": [
    "## Benefits and Anticipated Problems in Implementing the Improvement"
   ]
  },
  {
   "cell_type": "markdown",
   "metadata": {},
   "source": [
    "### Benefits "
   ]
  },
  {
   "cell_type": "markdown",
   "metadata": {},
   "source": [
    "To get more benefits from the OpenStreetMap, it will be nice to add reviews from public, and add place to visit suggestions for tourist and visitors. In this way local business will be involved and pushed to add more detailed and accurate to OpenStreetMap project to look for potential customers.\n"
   ]
  },
  {
   "cell_type": "markdown",
   "metadata": {},
   "source": [
    "### Anticipated problems "
   ]
  },
  {
   "cell_type": "markdown",
   "metadata": {},
   "source": [
    "OpenStreetMap is an open source project, so there is no paid employees on it which explain the low quality of data, so users may not relies on it, and there is alternatives that users may use to look for address and amenities such as google map, so that may not encourage the business to participate and fund it."
   ]
  }
 ],
 "metadata": {
  "kernelspec": {
   "display_name": "Python 2",
   "language": "python",
   "name": "python2"
  },
  "language_info": {
   "codemirror_mode": {
    "name": "ipython",
    "version": 2
   },
   "file_extension": ".py",
   "mimetype": "text/x-python",
   "name": "python",
   "nbconvert_exporter": "python",
   "pygments_lexer": "ipython2",
   "version": "2.7.14"
  }
 },
 "nbformat": 4,
 "nbformat_minor": 2
}
